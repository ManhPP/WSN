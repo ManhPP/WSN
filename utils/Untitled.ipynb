{
 "cells": [
  {
   "cell_type": "code",
   "execution_count": 1,
   "metadata": {},
   "outputs": [],
   "source": [
    "l = [0.11110208691246626, 0.4238673676533464, 0.8308550776162442, 0.9207111947781477, 0.3061761441202757, 0.733538882201638, 0.08400308079325935, 0.8271474958380094, 0.5304736072163272, 0.11885749960600556, 0.3872398781582356, 0.4743524054808089, 0.1650610398783895, 0.5091418572100311, 0.926194578210958, 0.07275173784414646, 0.476957065776318, 0.5512619912909351, 0.5365994456450703, 0.6086687773076649, 0.2825129102077637, 0.31140217082252153, 0.2873712741080314, 0.2741247022188257, 0.197836834728644, 0.940914114263421, 0.6635578142981046, 0.09399787468305976]"
   ]
  },
  {
   "cell_type": "code",
   "execution_count": 10,
   "metadata": {},
   "outputs": [],
   "source": [
    "for i, j in enumerate(l):\n",
    "    l[i] = round(j,2)"
   ]
  },
  {
   "cell_type": "code",
   "execution_count": 13,
   "metadata": {},
   "outputs": [
    {
     "data": {
      "text/plain": [
       "[0.11,\n",
       " 0.42,\n",
       " 0.83,\n",
       " 0.92,\n",
       " 0.31,\n",
       " 0.73,\n",
       " 0.08,\n",
       " 0.83,\n",
       " 0.53,\n",
       " 0.12,\n",
       " 0.39,\n",
       " 0.47,\n",
       " 0.17,\n",
       " 0.51,\n",
       " 0.93,\n",
       " 0.07,\n",
       " 0.48,\n",
       " 0.55,\n",
       " 0.54,\n",
       " 0.61,\n",
       " 0.28,\n",
       " 0.31,\n",
       " 0.29,\n",
       " 0.27,\n",
       " 0.2,\n",
       " 0.94,\n",
       " 0.66,\n",
       " 0.09]"
      ]
     },
     "execution_count": 13,
     "metadata": {},
     "output_type": "execute_result"
    }
   ],
   "source": [
    "l"
   ]
  },
  {
   "cell_type": "code",
   "execution_count": null,
   "metadata": {},
   "outputs": [],
   "source": []
  }
 ],
 "metadata": {
  "kernelspec": {
   "display_name": "Python 3",
   "language": "python",
   "name": "python3"
  },
  "language_info": {
   "codemirror_mode": {
    "name": "ipython",
    "version": 3
   },
   "file_extension": ".py",
   "mimetype": "text/x-python",
   "name": "python",
   "nbconvert_exporter": "python",
   "pygments_lexer": "ipython3",
   "version": "3.7.4"
  }
 },
 "nbformat": 4,
 "nbformat_minor": 2
}
